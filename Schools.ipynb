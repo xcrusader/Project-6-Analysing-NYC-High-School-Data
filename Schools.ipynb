{
 "cells": [
  {
   "cell_type": "raw",
   "metadata": {},
   "source": [
    "<script>\n",
    "  function code_toggle() {\n",
    "    if (code_shown){\n",
    "      $('div.input').hide('500');\n",
    "      $('#toggleButton').val('Show Code')\n",
    "    } else {\n",
    "      $('div.input').show('500');\n",
    "      $('#toggleButton').val('Hide Code')\n",
    "    }\n",
    "    code_shown = !code_shown\n",
    "  }\n",
    "\n",
    "  $( document ).ready(function(){\n",
    "    code_shown=false;\n",
    "    $('div.input').hide()\n",
    "  });\n",
    "</script>\n",
    "<form action=\"javascript:code_toggle()\"><input type=\"submit\" id=\"toggleButton\" value=\"Show Code\"></form>"
   ]
  },
  {
   "cell_type": "markdown",
   "metadata": {},
   "source": [
    "# SAT Scores - A Plot is Afoot!"
   ]
  },
  {
   "cell_type": "markdown",
   "metadata": {},
   "source": [
    "#### Can they reveal something more than scores?"
   ]
  },
  {
   "cell_type": "markdown",
   "metadata": {},
   "source": [
    "# Index"
   ]
  },
  {
   "cell_type": "markdown",
   "metadata": {},
   "source": [
    "- [1 Introduction](#1)\n",
    "- [2 Goal](#2)\n",
    "- [3 Reading and Combining the Data](#3)\n",
    "- [4 And how are you related](#4)\n",
    "- [5 How safe is your burrow?](#5)\n",
    "- [6 The Race SAT race](#6)\n",
    "- [7 Men from Mars, Women from Venus](#7)\n",
    "- [8 Couple of Steps ahead..](#8)\n",
    "- [9 Conclusion](#9)\n",
    "- [10 Acknowledgement](#10)"
   ]
  },
  {
   "cell_type": "markdown",
   "metadata": {},
   "source": [
    "# 1"
   ]
  },
  {
   "cell_type": "markdown",
   "metadata": {},
   "source": [
    "## Introduction"
   ]
  },
  {
   "cell_type": "markdown",
   "metadata": {},
   "source": [
    "[SAT(Scholastic Aptitude Test)](https://blog.prepscholar.com/what-is-the-sat-a-complete-explanation-of-the-test) is a test taken annualy by high school seniors in the US. The test helps colleges filter students for admissions and average SAT scores help identify school performance.\n",
    "\n",
    "The city of New York has published SAT scores by high school in additional to demographic data sets. Given the diverse mix of New York, SAT scores along with demographic data such as race, income and gender could reveal whether these scores are biased towards certains classes of the population with regards to performance.\n",
    "\n",
    "If analysis reveals that SAT scores are evenly distributed across all races it can be said that these scores are fair. However if a specific race or income bracket has a higher SAT score than another, it could be evidence that they are inequitable."
   ]
  },
  {
   "cell_type": "markdown",
   "metadata": {},
   "source": [
    "# 2"
   ]
  },
  {
   "cell_type": "markdown",
   "metadata": {},
   "source": [
    "## The Data"
   ]
  },
  {
   "cell_type": "markdown",
   "metadata": {},
   "source": [
    "The data sets provided includes the following:\n",
    "\n",
    "   - SAT scores by school - SAT scores for each high school in New York City\n",
    "   - School attendance - Attendance information for each school in New York City\n",
    "   - Class size - Information on class size for each school\n",
    "   - AP test results - Advanced Placement (AP) exam results for each high school (passing an optional AP exam in a particular subject can earn a student college credit in that subject)\n",
    "   - Graduation outcomes - The percentage of students who graduated, and other outcome information\n",
    "   - Demographics - Demographic information for each school\n",
    "   - School survey - Surveys of parents, teachers, and students at each school"
   ]
  },
  {
   "cell_type": "markdown",
   "metadata": {},
   "source": [
    "[Index](#Index)"
   ]
  },
  {
   "cell_type": "markdown",
   "metadata": {},
   "source": [
    "# 3"
   ]
  },
  {
   "cell_type": "markdown",
   "metadata": {},
   "source": [
    "## Goal"
   ]
  },
  {
   "cell_type": "markdown",
   "metadata": {},
   "source": [
    "The objective of this project is to identify whether SAT scores along with demographic data can reveal more than the scores themselves. In order to identify these relations we will be looking at correlations between various data columns from different sources.\n",
    "\n",
    "Since data comes from multiple sources we could get some insights in to:\n",
    "- How much influence race has on SAT scores?\n",
    "- How the instituitions students study in affect SAT scores?\n",
    "- How gender affects SAT scores?\n",
    "- How locality plays a role in the outcome of SAT scores?\n",
    "\n",
    "This data should help answer many of these questions."
   ]
  },
  {
   "cell_type": "markdown",
   "metadata": {},
   "source": [
    "[Index](#Index)"
   ]
  },
  {
   "cell_type": "markdown",
   "metadata": {},
   "source": [
    "# 4"
   ]
  },
  {
   "cell_type": "markdown",
   "metadata": {},
   "source": [
    "## Reading and Combining the Data"
   ]
  },
  {
   "cell_type": "markdown",
   "metadata": {},
   "source": [
    "Before carrying out analysis, the data needs to be extracted, cleaned and combined. The following steps are for the same."
   ]
  },
  {
   "cell_type": "markdown",
   "metadata": {},
   "source": [
    "- Reading the data - The data will be read from files made available by the city of new york. The files include demographic and survey related data\n",
    " - [SAT scores by school](https://data.cityofnewyork.us/Education/SAT-Results/f9bf-2cp4)\n",
    " - [Class size ](https://data.cityofnewyork.us/Education/2010-2011-Class-Size-School-level-detail/urz7-pzb3)\n",
    " - [AP test results ](https://data.cityofnewyork.us/Education/AP-College-Board-2010-School-Level-Results/itfs-ms3e)\n",
    " - [Graduation outcomes](https://data.cityofnewyork.us/Education/Graduation-Outcomes-Classes-Of-2005-2010-School-Le/vh2h-md7a)\n",
    " - [Demographics ](https://data.cityofnewyork.us/Education/School-Demographics-and-Accountability-Snapshot-20/ihfw-zy9j)\n",
    " - [School attendance](https://data.cityofnewyork.us/Education/School-Attendance-and-Enrollment-Statistics-by-Dis/7z8d-msnt)"
   ]
  },
  {
   "cell_type": "code",
   "execution_count": 3,
   "metadata": {},
   "outputs": [],
   "source": [
    "import pandas as pd\n",
    "import numpy\n",
    "import re\n",
    "\n",
    "data_files = [\n",
    "    \"ap_2010.csv\",\n",
    "    \"class_size.csv\",\n",
    "    \"demographics.csv\",\n",
    "    \"graduation.csv\",\n",
    "    \"hs_directory.csv\",\n",
    "    \"sat_results.csv\"\n",
    "]\n",
    "\n",
    "data = {}\n",
    "\n",
    "for f in data_files:\n",
    "    d = pd.read_csv(\"schools/{0}\".format(f))\n",
    "    data[f.replace(\".csv\", \"\")] = d"
   ]
  },
  {
   "cell_type": "markdown",
   "metadata": {},
   "source": [
    "- Reading in the surveys\n",
    " - [School survey](https://data.cityofnewyork.us/Education/NYC-School-Survey-2011/mnz3-dyi8)"
   ]
  },
  {
   "cell_type": "code",
   "execution_count": 4,
   "metadata": {},
   "outputs": [],
   "source": [
    "all_survey = pd.read_csv(\"schools/survey_all.txt\", delimiter=\"\\t\", encoding='windows-1252')\n",
    "d75_survey = pd.read_csv(\"schools/survey_d75.txt\", delimiter=\"\\t\", encoding='windows-1252')\n",
    "survey = pd.concat([all_survey, d75_survey], axis=0)\n",
    "\n",
    "survey[\"DBN\"] = survey[\"dbn\"]\n",
    "\n",
    "survey_fields = [\n",
    "    \"DBN\", \n",
    "    \"rr_s\", \n",
    "    \"rr_t\", \n",
    "    \"rr_p\", \n",
    "    \"N_s\", \n",
    "    \"N_t\", \n",
    "    \"N_p\", \n",
    "    \"saf_p_11\", \n",
    "    \"com_p_11\", \n",
    "    \"eng_p_11\", \n",
    "    \"aca_p_11\", \n",
    "    \"saf_t_11\", \n",
    "    \"com_t_11\", \n",
    "    \"eng_t_11\", \n",
    "    \"aca_t_11\", \n",
    "    \"saf_s_11\", \n",
    "    \"com_s_11\", \n",
    "    \"eng_s_11\", \n",
    "    \"aca_s_11\", \n",
    "    \"saf_tot_11\", \n",
    "    \"com_tot_11\", \n",
    "    \"eng_tot_11\", \n",
    "    \"aca_tot_11\",\n",
    "]\n",
    "survey = survey.loc[:,survey_fields]\n",
    "data[\"survey\"] = survey"
   ]
  },
  {
   "cell_type": "markdown",
   "metadata": {},
   "source": [
    "- Adding the DBN columns - **[DBN or District Borough Number](https://teachnyc.zendesk.com/hc/en-us/articles/360053601831-What-is-a-DBN-District-Borough-Number-)** is a unique school ID alloted to each school in the various districts of the five boroughs of New York. To enable better analysis, data from the various sources will be consolidated to a single table wherein the the DBN will be the unique identifier."
   ]
  },
  {
   "cell_type": "code",
   "execution_count": 5,
   "metadata": {},
   "outputs": [],
   "source": [
    "data[\"hs_directory\"][\"DBN\"] = data[\"hs_directory\"][\"dbn\"]\n",
    "\n",
    "def pad_csd(num):\n",
    "    string_representation = str(num)\n",
    "    if len(string_representation) > 1:\n",
    "        return string_representation\n",
    "    else:\n",
    "        return \"0\" + string_representation\n",
    "    \n",
    "data[\"class_size\"][\"padded_csd\"] = data[\"class_size\"][\"CSD\"].apply(pad_csd)\n",
    "data[\"class_size\"][\"DBN\"] = data[\"class_size\"][\"padded_csd\"] + data[\"class_size\"][\"SCHOOL CODE\"]"
   ]
  },
  {
   "cell_type": "markdown",
   "metadata": {},
   "source": [
    "- Converting columns to numeric - Some of the columns that are required for analysis have been read in as strings, they need to be converted to numeric values to ensure that better analysis is enabled."
   ]
  },
  {
   "cell_type": "code",
   "execution_count": 6,
   "metadata": {},
   "outputs": [],
   "source": [
    "cols = ['SAT Math Avg. Score', 'SAT Critical Reading Avg. Score', 'SAT Writing Avg. Score']\n",
    "for c in cols:\n",
    "    data[\"sat_results\"][c] = pd.to_numeric(data[\"sat_results\"][c], errors=\"coerce\")\n",
    "\n",
    "data['sat_results']['sat_score'] = data['sat_results'][cols[0]] + data['sat_results'][cols[1]] + data['sat_results'][cols[2]]\n",
    "\n",
    "# Code to identify location of each school by latitude and longitude\n",
    "def find_lat(loc):\n",
    "    coords = re.findall(\"\\(.+, .+\\)\", loc)\n",
    "    lat = coords[0].split(\",\")[0].replace(\"(\", \"\")\n",
    "    return lat\n",
    "\n",
    "def find_lon(loc):\n",
    "    coords = re.findall(\"\\(.+, .+\\)\", loc)\n",
    "    lon = coords[0].split(\",\")[1].replace(\")\", \"\").strip()\n",
    "    return lon\n",
    "\n",
    "data[\"hs_directory\"][\"lat\"] = data[\"hs_directory\"][\"Location 1\"].apply(find_lat)\n",
    "data[\"hs_directory\"][\"lon\"] = data[\"hs_directory\"][\"Location 1\"].apply(find_lon)\n",
    "\n",
    "data[\"hs_directory\"][\"lat\"] = pd.to_numeric(data[\"hs_directory\"][\"lat\"], errors=\"coerce\")\n",
    "data[\"hs_directory\"][\"lon\"] = pd.to_numeric(data[\"hs_directory\"][\"lon\"], errors=\"coerce\")"
   ]
  },
  {
   "cell_type": "markdown",
   "metadata": {},
   "source": [
    "- Condense datasets - The data from Class Size considers various education programs across different schools. Since the focus of the analysis is on students who have attended the SAT exams, it is required that we filter out data from various dataframes specific to our needs:\n",
    "  - From Class Size analysis will be on records that pertain to students in the PRogram Type GEN ED and GRADES 9-12\n",
    "  - From Demographics data for the school year 20112012 will need to be considered"
   ]
  },
  {
   "cell_type": "code",
   "execution_count": 7,
   "metadata": {},
   "outputs": [],
   "source": [
    "class_size = data[\"class_size\"]\n",
    "class_size = class_size[class_size[\"GRADE \"] == \"09-12\"]\n",
    "class_size = class_size[class_size[\"PROGRAM TYPE\"] == \"GEN ED\"]\n",
    "\n",
    "class_size = class_size.groupby(\"DBN\").agg(numpy.mean)\n",
    "class_size.reset_index(inplace=True)\n",
    "data[\"class_size\"] = class_size\n",
    "\n",
    "data[\"demographics\"] = data[\"demographics\"][data[\"demographics\"][\"schoolyear\"] == 20112012]\n",
    "\n",
    "data[\"graduation\"] = data[\"graduation\"][data[\"graduation\"][\"Cohort\"] == \"2006\"]\n",
    "data[\"graduation\"] = data[\"graduation\"][data[\"graduation\"][\"Demographic\"] == \"Total Cohort\"]"
   ]
  },
  {
   "cell_type": "markdown",
   "metadata": {},
   "source": [
    " - Converting AP scores to numeric"
   ]
  },
  {
   "cell_type": "code",
   "execution_count": 8,
   "metadata": {},
   "outputs": [],
   "source": [
    "cols = ['AP Test Takers ', 'Total Exams Taken', 'Number of Exams with scores 3 4 or 5']\n",
    "\n",
    "for col in cols:\n",
    "    data[\"ap_2010\"][col] = pd.to_numeric(data[\"ap_2010\"][col], errors=\"coerce\")"
   ]
  },
  {
   "cell_type": "markdown",
   "metadata": {},
   "source": [
    "- Combine the datasets - The datasets from all the data frames will need to be combined for analysis. The dataset will be combined based on the DBN column which allows for data of all tables seen from the perspective of each school."
   ]
  },
  {
   "cell_type": "code",
   "execution_count": 9,
   "metadata": {},
   "outputs": [],
   "source": [
    "combined = data[\"sat_results\"]\n",
    "\n",
    "combined = combined.merge(data[\"ap_2010\"], on=\"DBN\", how=\"left\")\n",
    "combined = combined.merge(data[\"graduation\"], on=\"DBN\", how=\"left\")\n",
    "\n",
    "to_merge = [\"class_size\", \"demographics\", \"survey\", \"hs_directory\"]\n",
    "\n",
    "for m in to_merge:\n",
    "    combined = combined.merge(data[m], on=\"DBN\", how=\"inner\")\n",
    "\n",
    "combined = combined.fillna(combined.mean())\n",
    "combined = combined.fillna(0)"
   ]
  },
  {
   "cell_type": "markdown",
   "metadata": {},
   "source": [
    " - Add a school district column for mapping - The school district column can be extracted from the DBN to enable better analysis at a later point."
   ]
  },
  {
   "cell_type": "code",
   "execution_count": 10,
   "metadata": {},
   "outputs": [],
   "source": [
    "def get_first_two_chars(dbn):\n",
    "    return dbn[0:2]\n",
    "\n",
    "combined[\"school_dist\"] = combined[\"DBN\"].apply(get_first_two_chars)"
   ]
  },
  {
   "cell_type": "markdown",
   "metadata": {},
   "source": [
    "[Index](#Index)"
   ]
  },
  {
   "cell_type": "markdown",
   "metadata": {},
   "source": [
    "# 5"
   ]
  },
  {
   "cell_type": "markdown",
   "metadata": {},
   "source": [
    "## And how are you related?"
   ]
  },
  {
   "cell_type": "markdown",
   "metadata": {},
   "source": [
    "**Understanding the correlations between the SAT score and other columns**"
   ]
  },
  {
   "cell_type": "markdown",
   "metadata": {},
   "source": [
    "Now that all the data is combined it will be easier to assess how the various columns related to SAT-score columns. We begin by assessing the correlation between the different columns in the _combined_ dataframe."
   ]
  },
  {
   "cell_type": "code",
   "execution_count": 11,
   "metadata": {
    "scrolled": false
   },
   "outputs": [
    {
     "data": {
      "text/html": [
       "<div>\n",
       "<style scoped>\n",
       "    .dataframe tbody tr th:only-of-type {\n",
       "        vertical-align: middle;\n",
       "    }\n",
       "\n",
       "    .dataframe tbody tr th {\n",
       "        vertical-align: top;\n",
       "    }\n",
       "\n",
       "    .dataframe thead th {\n",
       "        text-align: right;\n",
       "    }\n",
       "</style>\n",
       "<table border=\"1\" class=\"dataframe\">\n",
       "  <thead>\n",
       "    <tr style=\"text-align: right;\">\n",
       "      <th></th>\n",
       "      <th>SAT Critical Reading Avg. Score</th>\n",
       "      <th>SAT Math Avg. Score</th>\n",
       "      <th>SAT Writing Avg. Score</th>\n",
       "      <th>sat_score</th>\n",
       "      <th>AP Test Takers</th>\n",
       "      <th>Total Exams Taken</th>\n",
       "      <th>Number of Exams with scores 3 4 or 5</th>\n",
       "      <th>Total Cohort</th>\n",
       "      <th>CSD</th>\n",
       "      <th>NUMBER OF STUDENTS / SEATS FILLED</th>\n",
       "      <th>...</th>\n",
       "      <th>grade_span_max</th>\n",
       "      <th>expgrade_span_max</th>\n",
       "      <th>zip</th>\n",
       "      <th>total_students</th>\n",
       "      <th>number_programs</th>\n",
       "      <th>priority08</th>\n",
       "      <th>priority09</th>\n",
       "      <th>priority10</th>\n",
       "      <th>lat</th>\n",
       "      <th>lon</th>\n",
       "    </tr>\n",
       "  </thead>\n",
       "  <tbody>\n",
       "    <tr>\n",
       "      <th>SAT Critical Reading Avg. Score</th>\n",
       "      <td>1.000000</td>\n",
       "      <td>0.929221</td>\n",
       "      <td>0.982826</td>\n",
       "      <td>0.986820</td>\n",
       "      <td>0.490283</td>\n",
       "      <td>0.483479</td>\n",
       "      <td>0.441813</td>\n",
       "      <td>0.289710</td>\n",
       "      <td>0.035699</td>\n",
       "      <td>0.357418</td>\n",
       "      <td>...</td>\n",
       "      <td>NaN</td>\n",
       "      <td>NaN</td>\n",
       "      <td>-0.064120</td>\n",
       "      <td>0.367945</td>\n",
       "      <td>0.111556</td>\n",
       "      <td>NaN</td>\n",
       "      <td>NaN</td>\n",
       "      <td>NaN</td>\n",
       "      <td>-0.119993</td>\n",
       "      <td>-0.126479</td>\n",
       "    </tr>\n",
       "    <tr>\n",
       "      <th>SAT Math Avg. Score</th>\n",
       "      <td>0.929221</td>\n",
       "      <td>1.000000</td>\n",
       "      <td>0.931385</td>\n",
       "      <td>0.972643</td>\n",
       "      <td>0.545646</td>\n",
       "      <td>0.533239</td>\n",
       "      <td>0.469456</td>\n",
       "      <td>0.379012</td>\n",
       "      <td>0.078078</td>\n",
       "      <td>0.444985</td>\n",
       "      <td>...</td>\n",
       "      <td>NaN</td>\n",
       "      <td>NaN</td>\n",
       "      <td>-0.033971</td>\n",
       "      <td>0.460646</td>\n",
       "      <td>0.134403</td>\n",
       "      <td>NaN</td>\n",
       "      <td>NaN</td>\n",
       "      <td>NaN</td>\n",
       "      <td>-0.134572</td>\n",
       "      <td>-0.120055</td>\n",
       "    </tr>\n",
       "    <tr>\n",
       "      <th>SAT Writing Avg. Score</th>\n",
       "      <td>0.982826</td>\n",
       "      <td>0.931385</td>\n",
       "      <td>1.000000</td>\n",
       "      <td>0.987771</td>\n",
       "      <td>0.501648</td>\n",
       "      <td>0.495321</td>\n",
       "      <td>0.451790</td>\n",
       "      <td>0.282701</td>\n",
       "      <td>0.009161</td>\n",
       "      <td>0.353928</td>\n",
       "      <td>...</td>\n",
       "      <td>NaN</td>\n",
       "      <td>NaN</td>\n",
       "      <td>-0.093174</td>\n",
       "      <td>0.366308</td>\n",
       "      <td>0.096834</td>\n",
       "      <td>NaN</td>\n",
       "      <td>NaN</td>\n",
       "      <td>NaN</td>\n",
       "      <td>-0.100551</td>\n",
       "      <td>-0.143850</td>\n",
       "    </tr>\n",
       "    <tr>\n",
       "      <th>sat_score</th>\n",
       "      <td>0.986820</td>\n",
       "      <td>0.972643</td>\n",
       "      <td>0.987771</td>\n",
       "      <td>1.000000</td>\n",
       "      <td>0.523140</td>\n",
       "      <td>0.514333</td>\n",
       "      <td>0.463245</td>\n",
       "      <td>0.325144</td>\n",
       "      <td>0.042948</td>\n",
       "      <td>0.394626</td>\n",
       "      <td>...</td>\n",
       "      <td>NaN</td>\n",
       "      <td>NaN</td>\n",
       "      <td>-0.063977</td>\n",
       "      <td>0.407827</td>\n",
       "      <td>0.117012</td>\n",
       "      <td>NaN</td>\n",
       "      <td>NaN</td>\n",
       "      <td>NaN</td>\n",
       "      <td>-0.121029</td>\n",
       "      <td>-0.132222</td>\n",
       "    </tr>\n",
       "    <tr>\n",
       "      <th>AP Test Takers</th>\n",
       "      <td>0.490283</td>\n",
       "      <td>0.545646</td>\n",
       "      <td>0.501648</td>\n",
       "      <td>0.523140</td>\n",
       "      <td>1.000000</td>\n",
       "      <td>0.992192</td>\n",
       "      <td>0.901513</td>\n",
       "      <td>0.602802</td>\n",
       "      <td>0.091956</td>\n",
       "      <td>0.699954</td>\n",
       "      <td>...</td>\n",
       "      <td>NaN</td>\n",
       "      <td>NaN</td>\n",
       "      <td>0.066540</td>\n",
       "      <td>0.677453</td>\n",
       "      <td>0.178590</td>\n",
       "      <td>NaN</td>\n",
       "      <td>NaN</td>\n",
       "      <td>NaN</td>\n",
       "      <td>-0.104464</td>\n",
       "      <td>-0.053121</td>\n",
       "    </tr>\n",
       "    <tr>\n",
       "      <th>...</th>\n",
       "      <td>...</td>\n",
       "      <td>...</td>\n",
       "      <td>...</td>\n",
       "      <td>...</td>\n",
       "      <td>...</td>\n",
       "      <td>...</td>\n",
       "      <td>...</td>\n",
       "      <td>...</td>\n",
       "      <td>...</td>\n",
       "      <td>...</td>\n",
       "      <td>...</td>\n",
       "      <td>...</td>\n",
       "      <td>...</td>\n",
       "      <td>...</td>\n",
       "      <td>...</td>\n",
       "      <td>...</td>\n",
       "      <td>...</td>\n",
       "      <td>...</td>\n",
       "      <td>...</td>\n",
       "      <td>...</td>\n",
       "      <td>...</td>\n",
       "    </tr>\n",
       "    <tr>\n",
       "      <th>priority08</th>\n",
       "      <td>NaN</td>\n",
       "      <td>NaN</td>\n",
       "      <td>NaN</td>\n",
       "      <td>NaN</td>\n",
       "      <td>NaN</td>\n",
       "      <td>NaN</td>\n",
       "      <td>NaN</td>\n",
       "      <td>NaN</td>\n",
       "      <td>NaN</td>\n",
       "      <td>NaN</td>\n",
       "      <td>...</td>\n",
       "      <td>NaN</td>\n",
       "      <td>NaN</td>\n",
       "      <td>NaN</td>\n",
       "      <td>NaN</td>\n",
       "      <td>NaN</td>\n",
       "      <td>NaN</td>\n",
       "      <td>NaN</td>\n",
       "      <td>NaN</td>\n",
       "      <td>NaN</td>\n",
       "      <td>NaN</td>\n",
       "    </tr>\n",
       "    <tr>\n",
       "      <th>priority09</th>\n",
       "      <td>NaN</td>\n",
       "      <td>NaN</td>\n",
       "      <td>NaN</td>\n",
       "      <td>NaN</td>\n",
       "      <td>NaN</td>\n",
       "      <td>NaN</td>\n",
       "      <td>NaN</td>\n",
       "      <td>NaN</td>\n",
       "      <td>NaN</td>\n",
       "      <td>NaN</td>\n",
       "      <td>...</td>\n",
       "      <td>NaN</td>\n",
       "      <td>NaN</td>\n",
       "      <td>NaN</td>\n",
       "      <td>NaN</td>\n",
       "      <td>NaN</td>\n",
       "      <td>NaN</td>\n",
       "      <td>NaN</td>\n",
       "      <td>NaN</td>\n",
       "      <td>NaN</td>\n",
       "      <td>NaN</td>\n",
       "    </tr>\n",
       "    <tr>\n",
       "      <th>priority10</th>\n",
       "      <td>NaN</td>\n",
       "      <td>NaN</td>\n",
       "      <td>NaN</td>\n",
       "      <td>NaN</td>\n",
       "      <td>NaN</td>\n",
       "      <td>NaN</td>\n",
       "      <td>NaN</td>\n",
       "      <td>NaN</td>\n",
       "      <td>NaN</td>\n",
       "      <td>NaN</td>\n",
       "      <td>...</td>\n",
       "      <td>NaN</td>\n",
       "      <td>NaN</td>\n",
       "      <td>NaN</td>\n",
       "      <td>NaN</td>\n",
       "      <td>NaN</td>\n",
       "      <td>NaN</td>\n",
       "      <td>NaN</td>\n",
       "      <td>NaN</td>\n",
       "      <td>NaN</td>\n",
       "      <td>NaN</td>\n",
       "    </tr>\n",
       "    <tr>\n",
       "      <th>lat</th>\n",
       "      <td>-0.119993</td>\n",
       "      <td>-0.134572</td>\n",
       "      <td>-0.100551</td>\n",
       "      <td>-0.121029</td>\n",
       "      <td>-0.104464</td>\n",
       "      <td>-0.092747</td>\n",
       "      <td>-0.049501</td>\n",
       "      <td>-0.173088</td>\n",
       "      <td>-0.530901</td>\n",
       "      <td>-0.169959</td>\n",
       "      <td>...</td>\n",
       "      <td>NaN</td>\n",
       "      <td>NaN</td>\n",
       "      <td>-0.554974</td>\n",
       "      <td>-0.196901</td>\n",
       "      <td>-0.229880</td>\n",
       "      <td>NaN</td>\n",
       "      <td>NaN</td>\n",
       "      <td>NaN</td>\n",
       "      <td>1.000000</td>\n",
       "      <td>0.280425</td>\n",
       "    </tr>\n",
       "    <tr>\n",
       "      <th>lon</th>\n",
       "      <td>-0.126479</td>\n",
       "      <td>-0.120055</td>\n",
       "      <td>-0.143850</td>\n",
       "      <td>-0.132222</td>\n",
       "      <td>-0.053121</td>\n",
       "      <td>-0.060357</td>\n",
       "      <td>-0.036566</td>\n",
       "      <td>-0.003523</td>\n",
       "      <td>0.318252</td>\n",
       "      <td>-0.036394</td>\n",
       "      <td>...</td>\n",
       "      <td>NaN</td>\n",
       "      <td>NaN</td>\n",
       "      <td>0.438612</td>\n",
       "      <td>-0.043321</td>\n",
       "      <td>-0.093700</td>\n",
       "      <td>NaN</td>\n",
       "      <td>NaN</td>\n",
       "      <td>NaN</td>\n",
       "      <td>0.280425</td>\n",
       "      <td>1.000000</td>\n",
       "    </tr>\n",
       "  </tbody>\n",
       "</table>\n",
       "<p>67 rows × 67 columns</p>\n",
       "</div>"
      ],
      "text/plain": [
       "                                 SAT Critical Reading Avg. Score  \\\n",
       "SAT Critical Reading Avg. Score                         1.000000   \n",
       "SAT Math Avg. Score                                     0.929221   \n",
       "SAT Writing Avg. Score                                  0.982826   \n",
       "sat_score                                               0.986820   \n",
       "AP Test Takers                                          0.490283   \n",
       "...                                                          ...   \n",
       "priority08                                                   NaN   \n",
       "priority09                                                   NaN   \n",
       "priority10                                                   NaN   \n",
       "lat                                                    -0.119993   \n",
       "lon                                                    -0.126479   \n",
       "\n",
       "                                 SAT Math Avg. Score  SAT Writing Avg. Score  \\\n",
       "SAT Critical Reading Avg. Score             0.929221                0.982826   \n",
       "SAT Math Avg. Score                         1.000000                0.931385   \n",
       "SAT Writing Avg. Score                      0.931385                1.000000   \n",
       "sat_score                                   0.972643                0.987771   \n",
       "AP Test Takers                              0.545646                0.501648   \n",
       "...                                              ...                     ...   \n",
       "priority08                                       NaN                     NaN   \n",
       "priority09                                       NaN                     NaN   \n",
       "priority10                                       NaN                     NaN   \n",
       "lat                                        -0.134572               -0.100551   \n",
       "lon                                        -0.120055               -0.143850   \n",
       "\n",
       "                                 sat_score  AP Test Takers   \\\n",
       "SAT Critical Reading Avg. Score   0.986820         0.490283   \n",
       "SAT Math Avg. Score               0.972643         0.545646   \n",
       "SAT Writing Avg. Score            0.987771         0.501648   \n",
       "sat_score                         1.000000         0.523140   \n",
       "AP Test Takers                    0.523140         1.000000   \n",
       "...                                    ...              ...   \n",
       "priority08                             NaN              NaN   \n",
       "priority09                             NaN              NaN   \n",
       "priority10                             NaN              NaN   \n",
       "lat                              -0.121029        -0.104464   \n",
       "lon                              -0.132222        -0.053121   \n",
       "\n",
       "                                 Total Exams Taken  \\\n",
       "SAT Critical Reading Avg. Score           0.483479   \n",
       "SAT Math Avg. Score                       0.533239   \n",
       "SAT Writing Avg. Score                    0.495321   \n",
       "sat_score                                 0.514333   \n",
       "AP Test Takers                            0.992192   \n",
       "...                                            ...   \n",
       "priority08                                     NaN   \n",
       "priority09                                     NaN   \n",
       "priority10                                     NaN   \n",
       "lat                                      -0.092747   \n",
       "lon                                      -0.060357   \n",
       "\n",
       "                                 Number of Exams with scores 3 4 or 5  \\\n",
       "SAT Critical Reading Avg. Score                              0.441813   \n",
       "SAT Math Avg. Score                                          0.469456   \n",
       "SAT Writing Avg. Score                                       0.451790   \n",
       "sat_score                                                    0.463245   \n",
       "AP Test Takers                                               0.901513   \n",
       "...                                                               ...   \n",
       "priority08                                                        NaN   \n",
       "priority09                                                        NaN   \n",
       "priority10                                                        NaN   \n",
       "lat                                                         -0.049501   \n",
       "lon                                                         -0.036566   \n",
       "\n",
       "                                 Total Cohort       CSD  \\\n",
       "SAT Critical Reading Avg. Score      0.289710  0.035699   \n",
       "SAT Math Avg. Score                  0.379012  0.078078   \n",
       "SAT Writing Avg. Score               0.282701  0.009161   \n",
       "sat_score                            0.325144  0.042948   \n",
       "AP Test Takers                       0.602802  0.091956   \n",
       "...                                       ...       ...   \n",
       "priority08                                NaN       NaN   \n",
       "priority09                                NaN       NaN   \n",
       "priority10                                NaN       NaN   \n",
       "lat                                 -0.173088 -0.530901   \n",
       "lon                                 -0.003523  0.318252   \n",
       "\n",
       "                                 NUMBER OF STUDENTS / SEATS FILLED  ...  \\\n",
       "SAT Critical Reading Avg. Score                           0.357418  ...   \n",
       "SAT Math Avg. Score                                       0.444985  ...   \n",
       "SAT Writing Avg. Score                                    0.353928  ...   \n",
       "sat_score                                                 0.394626  ...   \n",
       "AP Test Takers                                            0.699954  ...   \n",
       "...                                                            ...  ...   \n",
       "priority08                                                     NaN  ...   \n",
       "priority09                                                     NaN  ...   \n",
       "priority10                                                     NaN  ...   \n",
       "lat                                                      -0.169959  ...   \n",
       "lon                                                      -0.036394  ...   \n",
       "\n",
       "                                 grade_span_max  expgrade_span_max       zip  \\\n",
       "SAT Critical Reading Avg. Score             NaN                NaN -0.064120   \n",
       "SAT Math Avg. Score                         NaN                NaN -0.033971   \n",
       "SAT Writing Avg. Score                      NaN                NaN -0.093174   \n",
       "sat_score                                   NaN                NaN -0.063977   \n",
       "AP Test Takers                              NaN                NaN  0.066540   \n",
       "...                                         ...                ...       ...   \n",
       "priority08                                  NaN                NaN       NaN   \n",
       "priority09                                  NaN                NaN       NaN   \n",
       "priority10                                  NaN                NaN       NaN   \n",
       "lat                                         NaN                NaN -0.554974   \n",
       "lon                                         NaN                NaN  0.438612   \n",
       "\n",
       "                                 total_students  number_programs  priority08  \\\n",
       "SAT Critical Reading Avg. Score        0.367945         0.111556         NaN   \n",
       "SAT Math Avg. Score                    0.460646         0.134403         NaN   \n",
       "SAT Writing Avg. Score                 0.366308         0.096834         NaN   \n",
       "sat_score                              0.407827         0.117012         NaN   \n",
       "AP Test Takers                         0.677453         0.178590         NaN   \n",
       "...                                         ...              ...         ...   \n",
       "priority08                                  NaN              NaN         NaN   \n",
       "priority09                                  NaN              NaN         NaN   \n",
       "priority10                                  NaN              NaN         NaN   \n",
       "lat                                   -0.196901        -0.229880         NaN   \n",
       "lon                                   -0.043321        -0.093700         NaN   \n",
       "\n",
       "                                 priority09  priority10       lat       lon  \n",
       "SAT Critical Reading Avg. Score         NaN         NaN -0.119993 -0.126479  \n",
       "SAT Math Avg. Score                     NaN         NaN -0.134572 -0.120055  \n",
       "SAT Writing Avg. Score                  NaN         NaN -0.100551 -0.143850  \n",
       "sat_score                               NaN         NaN -0.121029 -0.132222  \n",
       "AP Test Takers                          NaN         NaN -0.104464 -0.053121  \n",
       "...                                     ...         ...       ...       ...  \n",
       "priority08                              NaN         NaN       NaN       NaN  \n",
       "priority09                              NaN         NaN       NaN       NaN  \n",
       "priority10                              NaN         NaN       NaN       NaN  \n",
       "lat                                     NaN         NaN  1.000000  0.280425  \n",
       "lon                                     NaN         NaN  0.280425  1.000000  \n",
       "\n",
       "[67 rows x 67 columns]"
      ]
     },
     "metadata": {},
     "output_type": "display_data"
    }
   ],
   "source": [
    "correlations = combined.corr()\n",
    "display(correlations)"
   ]
  },
  {
   "cell_type": "code",
   "execution_count": 12,
   "metadata": {},
   "outputs": [],
   "source": [
    "# Remove DBN since it's a unique identifier, not a useful numerical value for correlation.\n",
    "survey_fields.remove(\"DBN\")"
   ]
  },
  {
   "cell_type": "markdown",
   "metadata": {},
   "source": [
    "Survey data from the teachers, students and parents have been included in the data set provided. Their correlations to SAT scores are as seen below."
   ]
  },
  {
   "cell_type": "code",
   "execution_count": 13,
   "metadata": {
    "scrolled": true
   },
   "outputs": [
    {
     "data": {
      "text/html": [
       "<div>\n",
       "<style scoped>\n",
       "    .dataframe tbody tr th:only-of-type {\n",
       "        vertical-align: middle;\n",
       "    }\n",
       "\n",
       "    .dataframe tbody tr th {\n",
       "        vertical-align: top;\n",
       "    }\n",
       "\n",
       "    .dataframe thead th {\n",
       "        text-align: right;\n",
       "    }\n",
       "</style>\n",
       "<table border=\"1\" class=\"dataframe\">\n",
       "  <thead>\n",
       "    <tr style=\"text-align: right;\">\n",
       "      <th></th>\n",
       "      <th>rr_s</th>\n",
       "      <th>rr_t</th>\n",
       "      <th>rr_p</th>\n",
       "      <th>N_s</th>\n",
       "      <th>N_t</th>\n",
       "      <th>N_p</th>\n",
       "      <th>saf_p_11</th>\n",
       "      <th>com_p_11</th>\n",
       "      <th>eng_p_11</th>\n",
       "      <th>aca_p_11</th>\n",
       "      <th>...</th>\n",
       "      <th>eng_t_11</th>\n",
       "      <th>aca_t_11</th>\n",
       "      <th>saf_s_11</th>\n",
       "      <th>com_s_11</th>\n",
       "      <th>eng_s_11</th>\n",
       "      <th>aca_s_11</th>\n",
       "      <th>saf_tot_11</th>\n",
       "      <th>com_tot_11</th>\n",
       "      <th>eng_tot_11</th>\n",
       "      <th>aca_tot_11</th>\n",
       "    </tr>\n",
       "  </thead>\n",
       "  <tbody>\n",
       "    <tr>\n",
       "      <th>SAT Critical Reading Avg. Score</th>\n",
       "      <td>0.230535</td>\n",
       "      <td>-0.031378</td>\n",
       "      <td>0.034665</td>\n",
       "      <td>0.384723</td>\n",
       "      <td>0.254049</td>\n",
       "      <td>0.383032</td>\n",
       "      <td>0.106216</td>\n",
       "      <td>-0.123188</td>\n",
       "      <td>0.016373</td>\n",
       "      <td>0.024355</td>\n",
       "      <td>...</td>\n",
       "      <td>0.026342</td>\n",
       "      <td>0.114903</td>\n",
       "      <td>0.293134</td>\n",
       "      <td>0.163375</td>\n",
       "      <td>0.179609</td>\n",
       "      <td>0.312628</td>\n",
       "      <td>0.280731</td>\n",
       "      <td>0.061919</td>\n",
       "      <td>0.080790</td>\n",
       "      <td>0.171198</td>\n",
       "    </tr>\n",
       "    <tr>\n",
       "      <th>SAT Math Avg. Score</th>\n",
       "      <td>0.206058</td>\n",
       "      <td>-0.010484</td>\n",
       "      <td>0.051688</td>\n",
       "      <td>0.471527</td>\n",
       "      <td>0.350594</td>\n",
       "      <td>0.464210</td>\n",
       "      <td>0.118931</td>\n",
       "      <td>-0.121054</td>\n",
       "      <td>0.005330</td>\n",
       "      <td>0.024334</td>\n",
       "      <td>...</td>\n",
       "      <td>0.040145</td>\n",
       "      <td>0.142014</td>\n",
       "      <td>0.367148</td>\n",
       "      <td>0.197983</td>\n",
       "      <td>0.238520</td>\n",
       "      <td>0.343080</td>\n",
       "      <td>0.337194</td>\n",
       "      <td>0.079245</td>\n",
       "      <td>0.105424</td>\n",
       "      <td>0.191625</td>\n",
       "    </tr>\n",
       "    <tr>\n",
       "      <th>SAT Writing Avg. Score</th>\n",
       "      <td>0.249670</td>\n",
       "      <td>-0.028465</td>\n",
       "      <td>0.054048</td>\n",
       "      <td>0.385180</td>\n",
       "      <td>0.247033</td>\n",
       "      <td>0.389013</td>\n",
       "      <td>0.136731</td>\n",
       "      <td>-0.094316</td>\n",
       "      <td>0.039251</td>\n",
       "      <td>0.055559</td>\n",
       "      <td>...</td>\n",
       "      <td>0.041592</td>\n",
       "      <td>0.131431</td>\n",
       "      <td>0.329990</td>\n",
       "      <td>0.188753</td>\n",
       "      <td>0.208252</td>\n",
       "      <td>0.342818</td>\n",
       "      <td>0.317966</td>\n",
       "      <td>0.085890</td>\n",
       "      <td>0.107528</td>\n",
       "      <td>0.198944</td>\n",
       "    </tr>\n",
       "    <tr>\n",
       "      <th>sat_score</th>\n",
       "      <td>0.232199</td>\n",
       "      <td>-0.023386</td>\n",
       "      <td>0.047925</td>\n",
       "      <td>0.423463</td>\n",
       "      <td>0.291463</td>\n",
       "      <td>0.421530</td>\n",
       "      <td>0.122913</td>\n",
       "      <td>-0.115073</td>\n",
       "      <td>0.020254</td>\n",
       "      <td>0.035155</td>\n",
       "      <td>...</td>\n",
       "      <td>0.036906</td>\n",
       "      <td>0.132348</td>\n",
       "      <td>0.337639</td>\n",
       "      <td>0.187370</td>\n",
       "      <td>0.213822</td>\n",
       "      <td>0.339435</td>\n",
       "      <td>0.318753</td>\n",
       "      <td>0.077310</td>\n",
       "      <td>0.100102</td>\n",
       "      <td>0.190966</td>\n",
       "    </tr>\n",
       "    <tr>\n",
       "      <th>AP Test Takers</th>\n",
       "      <td>0.059902</td>\n",
       "      <td>-0.008269</td>\n",
       "      <td>-0.013702</td>\n",
       "      <td>0.692322</td>\n",
       "      <td>0.560139</td>\n",
       "      <td>0.680333</td>\n",
       "      <td>-0.079412</td>\n",
       "      <td>-0.162610</td>\n",
       "      <td>-0.043140</td>\n",
       "      <td>-0.091459</td>\n",
       "      <td>...</td>\n",
       "      <td>0.042659</td>\n",
       "      <td>0.068629</td>\n",
       "      <td>0.138522</td>\n",
       "      <td>0.002849</td>\n",
       "      <td>0.095506</td>\n",
       "      <td>0.104078</td>\n",
       "      <td>0.087626</td>\n",
       "      <td>-0.018370</td>\n",
       "      <td>0.047837</td>\n",
       "      <td>0.045393</td>\n",
       "    </tr>\n",
       "    <tr>\n",
       "      <th>...</th>\n",
       "      <td>...</td>\n",
       "      <td>...</td>\n",
       "      <td>...</td>\n",
       "      <td>...</td>\n",
       "      <td>...</td>\n",
       "      <td>...</td>\n",
       "      <td>...</td>\n",
       "      <td>...</td>\n",
       "      <td>...</td>\n",
       "      <td>...</td>\n",
       "      <td>...</td>\n",
       "      <td>...</td>\n",
       "      <td>...</td>\n",
       "      <td>...</td>\n",
       "      <td>...</td>\n",
       "      <td>...</td>\n",
       "      <td>...</td>\n",
       "      <td>...</td>\n",
       "      <td>...</td>\n",
       "      <td>...</td>\n",
       "      <td>...</td>\n",
       "    </tr>\n",
       "    <tr>\n",
       "      <th>priority08</th>\n",
       "      <td>NaN</td>\n",
       "      <td>NaN</td>\n",
       "      <td>NaN</td>\n",
       "      <td>NaN</td>\n",
       "      <td>NaN</td>\n",
       "      <td>NaN</td>\n",
       "      <td>NaN</td>\n",
       "      <td>NaN</td>\n",
       "      <td>NaN</td>\n",
       "      <td>NaN</td>\n",
       "      <td>...</td>\n",
       "      <td>NaN</td>\n",
       "      <td>NaN</td>\n",
       "      <td>NaN</td>\n",
       "      <td>NaN</td>\n",
       "      <td>NaN</td>\n",
       "      <td>NaN</td>\n",
       "      <td>NaN</td>\n",
       "      <td>NaN</td>\n",
       "      <td>NaN</td>\n",
       "      <td>NaN</td>\n",
       "    </tr>\n",
       "    <tr>\n",
       "      <th>priority09</th>\n",
       "      <td>NaN</td>\n",
       "      <td>NaN</td>\n",
       "      <td>NaN</td>\n",
       "      <td>NaN</td>\n",
       "      <td>NaN</td>\n",
       "      <td>NaN</td>\n",
       "      <td>NaN</td>\n",
       "      <td>NaN</td>\n",
       "      <td>NaN</td>\n",
       "      <td>NaN</td>\n",
       "      <td>...</td>\n",
       "      <td>NaN</td>\n",
       "      <td>NaN</td>\n",
       "      <td>NaN</td>\n",
       "      <td>NaN</td>\n",
       "      <td>NaN</td>\n",
       "      <td>NaN</td>\n",
       "      <td>NaN</td>\n",
       "      <td>NaN</td>\n",
       "      <td>NaN</td>\n",
       "      <td>NaN</td>\n",
       "    </tr>\n",
       "    <tr>\n",
       "      <th>priority10</th>\n",
       "      <td>NaN</td>\n",
       "      <td>NaN</td>\n",
       "      <td>NaN</td>\n",
       "      <td>NaN</td>\n",
       "      <td>NaN</td>\n",
       "      <td>NaN</td>\n",
       "      <td>NaN</td>\n",
       "      <td>NaN</td>\n",
       "      <td>NaN</td>\n",
       "      <td>NaN</td>\n",
       "      <td>...</td>\n",
       "      <td>NaN</td>\n",
       "      <td>NaN</td>\n",
       "      <td>NaN</td>\n",
       "      <td>NaN</td>\n",
       "      <td>NaN</td>\n",
       "      <td>NaN</td>\n",
       "      <td>NaN</td>\n",
       "      <td>NaN</td>\n",
       "      <td>NaN</td>\n",
       "      <td>NaN</td>\n",
       "    </tr>\n",
       "    <tr>\n",
       "      <th>lat</th>\n",
       "      <td>0.050591</td>\n",
       "      <td>-0.092756</td>\n",
       "      <td>0.122586</td>\n",
       "      <td>-0.171325</td>\n",
       "      <td>-0.184858</td>\n",
       "      <td>-0.149107</td>\n",
       "      <td>0.240957</td>\n",
       "      <td>0.207534</td>\n",
       "      <td>0.147215</td>\n",
       "      <td>0.162478</td>\n",
       "      <td>...</td>\n",
       "      <td>-0.084631</td>\n",
       "      <td>-0.082495</td>\n",
       "      <td>0.109351</td>\n",
       "      <td>0.022880</td>\n",
       "      <td>0.015297</td>\n",
       "      <td>0.076781</td>\n",
       "      <td>0.110289</td>\n",
       "      <td>0.002096</td>\n",
       "      <td>-0.006988</td>\n",
       "      <td>0.026099</td>\n",
       "    </tr>\n",
       "    <tr>\n",
       "      <th>lon</th>\n",
       "      <td>-0.098253</td>\n",
       "      <td>-0.055198</td>\n",
       "      <td>0.017444</td>\n",
       "      <td>-0.066135</td>\n",
       "      <td>-0.046901</td>\n",
       "      <td>-0.065858</td>\n",
       "      <td>-0.059055</td>\n",
       "      <td>0.018565</td>\n",
       "      <td>-0.012808</td>\n",
       "      <td>-0.012851</td>\n",
       "      <td>...</td>\n",
       "      <td>-0.015295</td>\n",
       "      <td>-0.013223</td>\n",
       "      <td>-0.108957</td>\n",
       "      <td>-0.094638</td>\n",
       "      <td>-0.079073</td>\n",
       "      <td>-0.033967</td>\n",
       "      <td>-0.088974</td>\n",
       "      <td>-0.010792</td>\n",
       "      <td>-0.040262</td>\n",
       "      <td>-0.022453</td>\n",
       "    </tr>\n",
       "  </tbody>\n",
       "</table>\n",
       "<p>67 rows × 22 columns</p>\n",
       "</div>"
      ],
      "text/plain": [
       "                                     rr_s      rr_t      rr_p       N_s  \\\n",
       "SAT Critical Reading Avg. Score  0.230535 -0.031378  0.034665  0.384723   \n",
       "SAT Math Avg. Score              0.206058 -0.010484  0.051688  0.471527   \n",
       "SAT Writing Avg. Score           0.249670 -0.028465  0.054048  0.385180   \n",
       "sat_score                        0.232199 -0.023386  0.047925  0.423463   \n",
       "AP Test Takers                   0.059902 -0.008269 -0.013702  0.692322   \n",
       "...                                   ...       ...       ...       ...   \n",
       "priority08                            NaN       NaN       NaN       NaN   \n",
       "priority09                            NaN       NaN       NaN       NaN   \n",
       "priority10                            NaN       NaN       NaN       NaN   \n",
       "lat                              0.050591 -0.092756  0.122586 -0.171325   \n",
       "lon                             -0.098253 -0.055198  0.017444 -0.066135   \n",
       "\n",
       "                                      N_t       N_p  saf_p_11  com_p_11  \\\n",
       "SAT Critical Reading Avg. Score  0.254049  0.383032  0.106216 -0.123188   \n",
       "SAT Math Avg. Score              0.350594  0.464210  0.118931 -0.121054   \n",
       "SAT Writing Avg. Score           0.247033  0.389013  0.136731 -0.094316   \n",
       "sat_score                        0.291463  0.421530  0.122913 -0.115073   \n",
       "AP Test Takers                   0.560139  0.680333 -0.079412 -0.162610   \n",
       "...                                   ...       ...       ...       ...   \n",
       "priority08                            NaN       NaN       NaN       NaN   \n",
       "priority09                            NaN       NaN       NaN       NaN   \n",
       "priority10                            NaN       NaN       NaN       NaN   \n",
       "lat                             -0.184858 -0.149107  0.240957  0.207534   \n",
       "lon                             -0.046901 -0.065858 -0.059055  0.018565   \n",
       "\n",
       "                                 eng_p_11  aca_p_11  ...  eng_t_11  aca_t_11  \\\n",
       "SAT Critical Reading Avg. Score  0.016373  0.024355  ...  0.026342  0.114903   \n",
       "SAT Math Avg. Score              0.005330  0.024334  ...  0.040145  0.142014   \n",
       "SAT Writing Avg. Score           0.039251  0.055559  ...  0.041592  0.131431   \n",
       "sat_score                        0.020254  0.035155  ...  0.036906  0.132348   \n",
       "AP Test Takers                  -0.043140 -0.091459  ...  0.042659  0.068629   \n",
       "...                                   ...       ...  ...       ...       ...   \n",
       "priority08                            NaN       NaN  ...       NaN       NaN   \n",
       "priority09                            NaN       NaN  ...       NaN       NaN   \n",
       "priority10                            NaN       NaN  ...       NaN       NaN   \n",
       "lat                              0.147215  0.162478  ... -0.084631 -0.082495   \n",
       "lon                             -0.012808 -0.012851  ... -0.015295 -0.013223   \n",
       "\n",
       "                                 saf_s_11  com_s_11  eng_s_11  aca_s_11  \\\n",
       "SAT Critical Reading Avg. Score  0.293134  0.163375  0.179609  0.312628   \n",
       "SAT Math Avg. Score              0.367148  0.197983  0.238520  0.343080   \n",
       "SAT Writing Avg. Score           0.329990  0.188753  0.208252  0.342818   \n",
       "sat_score                        0.337639  0.187370  0.213822  0.339435   \n",
       "AP Test Takers                   0.138522  0.002849  0.095506  0.104078   \n",
       "...                                   ...       ...       ...       ...   \n",
       "priority08                            NaN       NaN       NaN       NaN   \n",
       "priority09                            NaN       NaN       NaN       NaN   \n",
       "priority10                            NaN       NaN       NaN       NaN   \n",
       "lat                              0.109351  0.022880  0.015297  0.076781   \n",
       "lon                             -0.108957 -0.094638 -0.079073 -0.033967   \n",
       "\n",
       "                                 saf_tot_11  com_tot_11  eng_tot_11  \\\n",
       "SAT Critical Reading Avg. Score    0.280731    0.061919    0.080790   \n",
       "SAT Math Avg. Score                0.337194    0.079245    0.105424   \n",
       "SAT Writing Avg. Score             0.317966    0.085890    0.107528   \n",
       "sat_score                          0.318753    0.077310    0.100102   \n",
       "AP Test Takers                     0.087626   -0.018370    0.047837   \n",
       "...                                     ...         ...         ...   \n",
       "priority08                              NaN         NaN         NaN   \n",
       "priority09                              NaN         NaN         NaN   \n",
       "priority10                              NaN         NaN         NaN   \n",
       "lat                                0.110289    0.002096   -0.006988   \n",
       "lon                               -0.088974   -0.010792   -0.040262   \n",
       "\n",
       "                                 aca_tot_11  \n",
       "SAT Critical Reading Avg. Score    0.171198  \n",
       "SAT Math Avg. Score                0.191625  \n",
       "SAT Writing Avg. Score             0.198944  \n",
       "sat_score                          0.190966  \n",
       "AP Test Takers                     0.045393  \n",
       "...                                     ...  \n",
       "priority08                              NaN  \n",
       "priority09                              NaN  \n",
       "priority10                              NaN  \n",
       "lat                                0.026099  \n",
       "lon                               -0.022453  \n",
       "\n",
       "[67 rows x 22 columns]"
      ]
     },
     "execution_count": 13,
     "metadata": {},
     "output_type": "execute_result"
    }
   ],
   "source": [
    "correlations[survey_fields]"
   ]
  },
  {
   "cell_type": "code",
   "execution_count": 14,
   "metadata": {},
   "outputs": [],
   "source": [
    "correlations = correlations[\"sat_score\"]"
   ]
  },
  {
   "cell_type": "markdown",
   "metadata": {},
   "source": [
    "Since the focus is on the affect on SAT scores, the correlation of SAT scores on the survey data must be taken in to consideration. "
   ]
  },
  {
   "cell_type": "code",
   "execution_count": 15,
   "metadata": {},
   "outputs": [
    {
     "data": {
      "text/plain": [
       "rr_s          0.232199\n",
       "rr_t         -0.023386\n",
       "rr_p          0.047925\n",
       "N_s           0.423463\n",
       "N_t           0.291463\n",
       "N_p           0.421530\n",
       "saf_p_11      0.122913\n",
       "com_p_11     -0.115073\n",
       "eng_p_11      0.020254\n",
       "aca_p_11      0.035155\n",
       "saf_t_11      0.313810\n",
       "com_t_11      0.082419\n",
       "eng_t_11      0.036906\n",
       "aca_t_11      0.132348\n",
       "saf_s_11      0.337639\n",
       "com_s_11      0.187370\n",
       "eng_s_11      0.213822\n",
       "aca_s_11      0.339435\n",
       "saf_tot_11    0.318753\n",
       "com_tot_11    0.077310\n",
       "eng_tot_11    0.100102\n",
       "aca_tot_11    0.190966\n",
       "Name: sat_score, dtype: float64"
      ]
     },
     "execution_count": 15,
     "metadata": {},
     "output_type": "execute_result"
    }
   ],
   "source": [
    "correlations[survey_fields]"
   ]
  },
  {
   "cell_type": "code",
   "execution_count": 42,
   "metadata": {},
   "outputs": [
    {
     "data": {
      "image/png": "[encoded data removed]",
      "text/plain": [
       "<Figure size 576x432 with 1 Axes>"
      ]
     },
     "metadata": {
      "needs_background": "light"
     },
     "output_type": "display_data"
    }
   ],
   "source": [
    "import seaborn as sns\n",
    "import matplotlib.pyplot as plt\n",
    "\n",
    "# Setting figure size\n",
    "plt.figure(figsize=(8,6))\n",
    "\n",
    "# Highlights survey_fields that have a correlation above 0.2\n",
    "bar_color = ['grey' if (abs(x) < 0.2) else 'red' for x in correlations[survey_fields].values ]\n",
    "ax = sns.barplot(x = correlations[survey_fields].index, y = correlations[survey_fields].values, palette = bar_color)\n",
    "\n",
    "ax.spines[\"top\"].set_visible(False)\n",
    "ax.spines[\"bottom\"].set_visible(False)\n",
    "ax.spines[\"right\"].set_visible(False)\n",
    "ax.spines[\"left\"].set_visible(False)\n",
    "ax.tick_params(left = False, bottom = False)\n",
    "plt.xticks(rotation=60)\n",
    "ax.set_yticks([])\n",
    "\n",
    "#Annotating the bargraph\n",
    "for p in ax.patches:\n",
    "    corr_val = '{:.2f}'.format(p.get_height())\n",
    "    x = p.get_x()+p.get_width()/2.\n",
    "    y = p.get_height()\n",
    "    ax.annotate(corr_val,(x,y),\n",
    "                ha='center',\n",
    "                va='center', \n",
    "                xytext = (0, 9), \n",
    "                textcoords = 'offset points')\n",
    "    \n",
    "ax.set_title(\"Correlation of sat_scores to survey_fields\")\n",
    "plt.show()"
   ]
  },
  {
   "attachments": {
    "image.png": {
     "image/png": "[encoded data removed]"
    }
   },
   "cell_type": "markdown",
   "metadata": {},
   "source": [
    "![image.png](attachment:image.png)"
   ]
  },
  {
   "cell_type": "markdown",
   "metadata": {},
   "source": [
    "**Observations**:\n",
    "- Institutions that have **good average SAT scores are assumed to have excellent communication and engagement mediums**. Therefore it is natural to assume that scores related to these fields would have some significant relation to SAT scores. This **result possibly flips that** assumption. \n",
    "- **Student engagement**, in contrast to parent and teacher engagement seems to have a **significant impact on SAT scores**. This is a given. As students engage more in academic activities, the same is likely to reflect in their SAT scores.\n",
    "- **Safety for both students and teachers seems to be of a higher priority** among respondents of the mentioned categories. The same seems to reflect in the average SAT scores\n",
    "- While the **number of respondents** seems to have a clear correlation to SAT scores, it would be incorrect to assume that increases respondents means increased SAT scores and vice-versa. Survey participation is voluntary and many could have missed or not been interested in filling up a survey. So participation **cannot be used as a good indicator of SAT scores.**\n",
    "- It must be noted that **correlation is not causation**. While correlation could be used as a guide, more data and a deeper dive in to the data will help to identify the strength of the relation."
   ]
  },
  {
   "cell_type": "markdown",
   "metadata": {},
   "source": [
    "[Index](#Index)"
   ]
  },
  {
   "cell_type": "markdown",
   "metadata": {},
   "source": [
    "# 5"
   ]
  },
  {
   "cell_type": "markdown",
   "metadata": {},
   "source": [
    "## Safety First...?"
   ]
  },
  {
   "cell_type": "markdown",
   "metadata": {},
   "source": [
    "As seen in the previous section, the degree of safety felt by teachers and students seems to be significantly correlated to SAT scores. It therefore makes sense to investigate this correlation further.\n",
    "\n",
    "The correlation plots should clearly be able to indicate whether safety plays a role in the outcome of SAT scores."
   ]
  },
  {
   "cell_type": "code",
   "execution_count": 17,
   "metadata": {
    "scrolled": false
   },
   "outputs": [
    {
     "data": {
      "image/png": "[encoded data removed]",
      "text/plain": [
       "<Figure size 432x288 with 1 Axes>"
      ]
     },
     "metadata": {
      "needs_background": "light"
     },
     "output_type": "display_data"
    }
   ],
   "source": [
    "ax = sns.scatterplot(x = combined[\"saf_s_11\"], y = combined[\"sat_score\"])\n",
    "ax.set_title(\"SAT scores vs Student Safety scores\")\n",
    "plt.show()"
   ]
  },
  {
   "cell_type": "code",
   "execution_count": 18,
   "metadata": {},
   "outputs": [
    {
     "data": {
      "image/png": "[encoded data removed]",
      "text/plain": [
       "<Figure size 432x288 with 1 Axes>"
      ]
     },
     "metadata": {
      "needs_background": "light"
     },
     "output_type": "display_data"
    }
   ],
   "source": [
    "ax = sns.scatterplot(x = combined[\"saf_t_11\"], y = combined[\"sat_score\"])\n",
    "ax.set_title(\"SAT scores vs Teacher Safety scoresb\")\n",
    "plt.show()"
   ]
  },
  {
   "cell_type": "markdown",
   "metadata": {},
   "source": [
    "**Observations**:\n",
    "- Based on student and teacher safety scores it is clear that there is **no direct relation between safety and SAT scores**.\n",
    "- Both plots show that there are cases where the safety scores may be quite high but the SAT scores do not reflect the same.\n",
    "- While safety is important there may be other more pressing matters that dictate better outcomes in SAT scores."
   ]
  },
  {
   "cell_type": "markdown",
   "metadata": {},
   "source": [
    "# 6"
   ]
  },
  {
   "cell_type": "markdown",
   "metadata": {},
   "source": [
    "## How safe is your burrow?"
   ]
  },
  {
   "cell_type": "markdown",
   "metadata": {},
   "source": [
    "New York consists of 5 boroughs namely The Bronx, Queens, Brooklyn, Manhattan and Staten Island. Since we are looking at safety it would be interesting to see how safety is distributed across the boroughs.\n",
    "\n",
    "For this we could average the safety scores across the boroughs. The DBN column created earlier clearly indicates the borough a school belongs to. Using this, average safety scores for each borough can be calculated by grouping schools by boroughs ."
   ]
  },
  {
   "attachments": {
    "image.png": {
     "image/png": "[encoded data removed]"
    }
   },
   "cell_type": "markdown",
   "metadata": {},
   "source": [
    "![image.png](attachment:image.png)"
   ]
  },
  {
   "cell_type": "code",
   "execution_count": 19,
   "metadata": {},
   "outputs": [
    {
     "name": "stdout",
     "output_type": "stream",
     "text": [
      "\u001b[1mSafety Scores across boroughs in ascending order of Safety Score\u001b[0m\n"
     ]
    },
    {
     "data": {
      "text/plain": [
       "borough\n",
       "K    6.370755\n",
       "R    6.530000\n",
       "X    6.606577\n",
       "Q    6.721875\n",
       "M    6.831370\n",
       "Name: saf_s_11, dtype: float64"
      ]
     },
     "execution_count": 19,
     "metadata": {},
     "output_type": "execute_result"
    }
   ],
   "source": [
    "def get_borough(dbn):\n",
    "    return dbn[2]\n",
    "combined[\"borough\"] = combined[\"DBN\"].apply(lambda dbn: dbn[2])\n",
    "borough_avg = combined.groupby(\"borough\").agg(numpy.mean)\n",
    "print('\\033[1m' + \"Safety Scores across boroughs in ascending order of Safety Score\" + '\\033[0m')\n",
    "borough_avg['saf_s_11'].sort_values()"
   ]
  },
  {
   "cell_type": "markdown",
   "metadata": {},
   "source": [
    "**Observation**:\n",
    "- **Safety across the boroughs is almost the same** with Manhattan having a slightly higher score than the rest"
   ]
  },
  {
   "cell_type": "markdown",
   "metadata": {},
   "source": [
    "**Question**: Does safety have a significant role in the outcome of SAT scores?"
   ]
  },
  {
   "cell_type": "code",
   "execution_count": 20,
   "metadata": {
    "scrolled": true
   },
   "outputs": [
    {
     "data": {
      "image/png": "[encoded data removed]",
      "text/plain": [
       "<Figure size 432x288 with 1 Axes>"
      ]
     },
     "metadata": {
      "needs_background": "light"
     },
     "output_type": "display_data"
    }
   ],
   "source": [
    "ax = sns.scatterplot(x = combined[\"saf_s_11\"], y = combined[\"sat_score\"], hue = combined[\"borough\"])\n",
    "ax.set_title(\"SAT scores vs Student Safety scores\")\n",
    "plt.show()"
   ]
  },
  {
   "cell_type": "markdown",
   "metadata": {},
   "source": [
    "**Insights**:\n",
    "- Safety seems to be a priority among student and teacher respondents. However its direct impact on SAT scores is variedly distributed."
   ]
  },
  {
   "cell_type": "markdown",
   "metadata": {},
   "source": [
    "[Index](#Index)"
   ]
  },
  {
   "cell_type": "markdown",
   "metadata": {},
   "source": [
    "# 6"
   ]
  },
  {
   "cell_type": "markdown",
   "metadata": {},
   "source": [
    "## The Race SAT race"
   ]
  },
  {
   "cell_type": "markdown",
   "metadata": {},
   "source": [
    "**Effects of Race on SAT scores**"
   ]
  },
  {
   "cell_type": "markdown",
   "metadata": {},
   "source": [
    "Considering that we have enough demographic data it seems logical to find the correlation between race and SAT scores."
   ]
  },
  {
   "cell_type": "code",
   "execution_count": 44,
   "metadata": {},
   "outputs": [
    {
     "name": "stdout",
     "output_type": "stream",
     "text": [
      "\u001b[1mCorrelation of SAT score and the different races of students\u001b[0m\n"
     ]
    },
    {
     "data": {
      "text/plain": [
       "white_per       0.620718\n",
       "asian_per       0.570730\n",
       "black_per      -0.284139\n",
       "hispanic_per   -0.396985\n",
       "Name: sat_score, dtype: float64"
      ]
     },
     "execution_count": 44,
     "metadata": {},
     "output_type": "execute_result"
    }
   ],
   "source": [
    "race = ['white_per', 'asian_per', 'black_per','hispanic_per']\n",
    "print('\\033[1m' + \"Correlation of SAT score and the different races of students\" + '\\033[0m')\n",
    "correlations[race]"
   ]
  },
  {
   "cell_type": "code",
   "execution_count": 22,
   "metadata": {},
   "outputs": [
    {
     "data": {
      "image/png": "[encoded data removed]",
      "text/plain": [
       "<Figure size 576x432 with 1 Axes>"
      ]
     },
     "metadata": {
      "needs_background": "light"
     },
     "output_type": "display_data"
    }
   ],
   "source": [
    "plt.figure(figsize=(8,6))\n",
    "\n",
    "# Highlights survey_fields that have a correlation above 0.2\n",
    "bar_color = ['grey' if (abs(x) < 0.2) else 'red' for x in correlations[race].values ]\n",
    "ax = sns.barplot(x = correlations[race].index, y = correlations[race].values, palette = bar_color)\n",
    "\n",
    "ax.spines[\"top\"].set_visible(False)\n",
    "ax.spines[\"bottom\"].set_visible(False)\n",
    "ax.spines[\"right\"].set_visible(False)\n",
    "ax.spines[\"left\"].set_visible(False)\n",
    "ax.tick_params(left = False, bottom = False)\n",
    "plt.xticks(rotation=60)\n",
    "ax.set_yticks([])\n",
    "\n",
    "#Annotating the bargraph\n",
    "for p in ax.patches:\n",
    "    corr_val = '{:.2f}'.format(p.get_height())\n",
    "    x = p.get_x()+p.get_width()/2.\n",
    "    y = p.get_height()\n",
    "    ax.annotate(corr_val,(x,y),ha='center',va='center', xytext = (0, 9), \n",
    "                   textcoords = 'offset points')\n",
    "    \n",
    "ax.set_title(\"Correlation of sat_scores to different races\")\n",
    "plt.show()"
   ]
  },
  {
   "cell_type": "markdown",
   "metadata": {},
   "source": [
    "**Observations**"
   ]
  },
  {
   "cell_type": "markdown",
   "metadata": {},
   "source": [
    "- Caucasians and Asians seem to have a positive correlation while African americans and Hispanics seem to have a negative correlation with relation to SAT score."
   ]
  },
  {
   "cell_type": "markdown",
   "metadata": {},
   "source": [
    "A better understanding of these results could be highlighted using scatter plots."
   ]
  },
  {
   "cell_type": "code",
   "execution_count": 23,
   "metadata": {},
   "outputs": [
    {
     "data": {
      "image/png": "[encoded data removed]",
      "text/plain": [
       "<Figure size 864x864 with 4 Axes>"
      ]
     },
     "metadata": {
      "needs_background": "light"
     },
     "output_type": "display_data"
    }
   ],
   "source": [
    "color = ['red','green','blue','brown']\n",
    "title = ['White', 'Asian', 'Black', 'Hispanic']\n",
    "fig = plt.figure(figsize=(12, 12))\n",
    "\n",
    "for a_race in range(0,4):\n",
    "    ax = fig.add_subplot(2,2,a_race+1)\n",
    "    ax.scatter(combined[race[a_race]],combined['sat_score'],c=color[a_race])\n",
    "    \n",
    "    ax.tick_params(left = \"off\", right = \"off\", top = \"off\", bottom = \"off\")\n",
    "    ax.spines[\"top\"].set_visible(False)\n",
    "    ax.spines[\"bottom\"].set_visible(False)\n",
    "    ax.spines[\"right\"].set_visible(False)\n",
    "    ax.spines[\"left\"].set_visible(False)\n",
    "    ax.tick_params(bottom=True, top=False, left=True, right=False, labelbottom = True)\n",
    "    ax.set_title('SAT score vs Percentage of {} students'.format(title[a_race]))\n",
    "plt.show()\n",
    "#     sns.scatterplot(x = combined[race], y= combined['sat_score'])"
   ]
  },
  {
   "cell_type": "markdown",
   "metadata": {},
   "source": [
    "**Observation**\n",
    "- The plots clearly reflect the positive and negative correlations observed earlier.\n",
    "- Black and hispanic students have marginal representations in institutions with high SAT scores.\n",
    "- Hispanic students seem to suffer the brunt of this disparity considering that they have almost 100% representation in schools that have average SAT scores much less than 1000\n",
    "- Black students have almost 0 representation in schools with very high SAT scores.\n",
    "- The presence of white and asian students are significant in schools that have high SAT scores."
   ]
  },
  {
   "cell_type": "markdown",
   "metadata": {},
   "source": [
    "To understand the obseravation further it would be good to delve in to the institutions themselves and find how they perform."
   ]
  },
  {
   "cell_type": "code",
   "execution_count": 45,
   "metadata": {
    "scrolled": true
   },
   "outputs": [
    {
     "name": "stdout",
     "output_type": "stream",
     "text": [
      "\u001b[1mAverage SAT scores of schools having greater than 95% Hispanic students\u001b[0m\n"
     ]
    },
    {
     "data": {
      "text/html": [
       "<div>\n",
       "<style scoped>\n",
       "    .dataframe tbody tr th:only-of-type {\n",
       "        vertical-align: middle;\n",
       "    }\n",
       "\n",
       "    .dataframe tbody tr th {\n",
       "        vertical-align: top;\n",
       "    }\n",
       "\n",
       "    .dataframe thead th {\n",
       "        text-align: right;\n",
       "    }\n",
       "</style>\n",
       "<table border=\"1\" class=\"dataframe\">\n",
       "  <thead>\n",
       "    <tr style=\"text-align: right;\">\n",
       "      <th></th>\n",
       "      <th>SCHOOL NAME</th>\n",
       "      <th>sat_score</th>\n",
       "    </tr>\n",
       "  </thead>\n",
       "  <tbody>\n",
       "    <tr>\n",
       "      <th>44</th>\n",
       "      <td>MANHATTAN BRIDGES HIGH SCHOOL</td>\n",
       "      <td>1058.0</td>\n",
       "    </tr>\n",
       "    <tr>\n",
       "      <th>82</th>\n",
       "      <td>WASHINGTON HEIGHTS EXPEDITIONARY LEARNING SCHOOL</td>\n",
       "      <td>1174.0</td>\n",
       "    </tr>\n",
       "    <tr>\n",
       "      <th>89</th>\n",
       "      <td>GREGORIO LUPERON HIGH SCHOOL FOR SCIENCE AND M...</td>\n",
       "      <td>1014.0</td>\n",
       "    </tr>\n",
       "    <tr>\n",
       "      <th>125</th>\n",
       "      <td>ACADEMY FOR LANGUAGE AND TECHNOLOGY</td>\n",
       "      <td>951.0</td>\n",
       "    </tr>\n",
       "    <tr>\n",
       "      <th>141</th>\n",
       "      <td>INTERNATIONAL SCHOOL FOR LIBERAL ARTS</td>\n",
       "      <td>934.0</td>\n",
       "    </tr>\n",
       "    <tr>\n",
       "      <th>176</th>\n",
       "      <td>PAN AMERICAN INTERNATIONAL HIGH SCHOOL AT MONROE</td>\n",
       "      <td>970.0</td>\n",
       "    </tr>\n",
       "    <tr>\n",
       "      <th>253</th>\n",
       "      <td>MULTICULTURAL HIGH SCHOOL</td>\n",
       "      <td>887.0</td>\n",
       "    </tr>\n",
       "    <tr>\n",
       "      <th>286</th>\n",
       "      <td>PAN AMERICAN INTERNATIONAL HIGH SCHOOL</td>\n",
       "      <td>951.0</td>\n",
       "    </tr>\n",
       "  </tbody>\n",
       "</table>\n",
       "</div>"
      ],
      "text/plain": [
       "                                           SCHOOL NAME  sat_score\n",
       "44                       MANHATTAN BRIDGES HIGH SCHOOL     1058.0\n",
       "82    WASHINGTON HEIGHTS EXPEDITIONARY LEARNING SCHOOL     1174.0\n",
       "89   GREGORIO LUPERON HIGH SCHOOL FOR SCIENCE AND M...     1014.0\n",
       "125                ACADEMY FOR LANGUAGE AND TECHNOLOGY      951.0\n",
       "141              INTERNATIONAL SCHOOL FOR LIBERAL ARTS      934.0\n",
       "176   PAN AMERICAN INTERNATIONAL HIGH SCHOOL AT MONROE      970.0\n",
       "253                          MULTICULTURAL HIGH SCHOOL      887.0\n",
       "286             PAN AMERICAN INTERNATIONAL HIGH SCHOOL      951.0"
      ]
     },
     "execution_count": 45,
     "metadata": {},
     "output_type": "execute_result"
    }
   ],
   "source": [
    "# Schools that have more than 95% hispanic students and their average SAT scores.\n",
    "print('\\033[1m' + \"Average SAT scores of schools having greater than 95% Hispanic students\" + '\\033[0m')\n",
    "combined[combined['hispanic_per'] > 95][['SCHOOL NAME', 'sat_score']]"
   ]
  },
  {
   "cell_type": "markdown",
   "metadata": {},
   "source": [
    "**Observation**\n",
    "A bit of research on _Multicultural High School_ which has an average SAT score of 887 reveals the following:\n",
    "- % of economically disadvantaged students is 92%.\n",
    "- The school is made up of mostly students of immigrant hispanic parents\n",
    "- The school has no asian, multi-racial or american-indian students."
   ]
  },
  {
   "cell_type": "code",
   "execution_count": 46,
   "metadata": {},
   "outputs": [
    {
     "name": "stdout",
     "output_type": "stream",
     "text": [
      "\u001b[1mPercentage of African-American students in schools with average SAT scores greater than 1800\u001b[0m\n"
     ]
    },
    {
     "data": {
      "text/html": [
       "<div>\n",
       "<style scoped>\n",
       "    .dataframe tbody tr th:only-of-type {\n",
       "        vertical-align: middle;\n",
       "    }\n",
       "\n",
       "    .dataframe tbody tr th {\n",
       "        vertical-align: top;\n",
       "    }\n",
       "\n",
       "    .dataframe thead th {\n",
       "        text-align: right;\n",
       "    }\n",
       "</style>\n",
       "<table border=\"1\" class=\"dataframe\">\n",
       "  <thead>\n",
       "    <tr style=\"text-align: right;\">\n",
       "      <th></th>\n",
       "      <th>SCHOOL NAME</th>\n",
       "      <th>sat_score</th>\n",
       "      <th>black_per</th>\n",
       "    </tr>\n",
       "  </thead>\n",
       "  <tbody>\n",
       "    <tr>\n",
       "      <th>37</th>\n",
       "      <td>STUYVESANT HIGH SCHOOL</td>\n",
       "      <td>2096.0</td>\n",
       "      <td>1.2</td>\n",
       "    </tr>\n",
       "    <tr>\n",
       "      <th>151</th>\n",
       "      <td>BRONX HIGH SCHOOL OF SCIENCE</td>\n",
       "      <td>1969.0</td>\n",
       "      <td>3.5</td>\n",
       "    </tr>\n",
       "    <tr>\n",
       "      <th>302</th>\n",
       "      <td>TOWNSEND HARRIS HIGH SCHOOL</td>\n",
       "      <td>1910.0</td>\n",
       "      <td>5.9</td>\n",
       "    </tr>\n",
       "    <tr>\n",
       "      <th>356</th>\n",
       "      <td>STATEN ISLAND TECHNICAL HIGH SCHOOL</td>\n",
       "      <td>1953.0</td>\n",
       "      <td>1.1</td>\n",
       "    </tr>\n",
       "  </tbody>\n",
       "</table>\n",
       "</div>"
      ],
      "text/plain": [
       "                             SCHOOL NAME  sat_score  black_per\n",
       "37                STUYVESANT HIGH SCHOOL     2096.0        1.2\n",
       "151         BRONX HIGH SCHOOL OF SCIENCE     1969.0        3.5\n",
       "302          TOWNSEND HARRIS HIGH SCHOOL     1910.0        5.9\n",
       "356  STATEN ISLAND TECHNICAL HIGH SCHOOL     1953.0        1.1"
      ]
     },
     "execution_count": 46,
     "metadata": {},
     "output_type": "execute_result"
    }
   ],
   "source": [
    "#Schools that have less than 10% black students and average SAT scores greater than 1800\n",
    "print('\\033[1m' + \"Percentage of African-American students in schools with average SAT scores greater than 1800\" + '\\033[0m')\n",
    "combined[(combined['black_per'] < 10) & (combined['sat_score'] >1800)][['SCHOOL NAME', 'sat_score', 'black_per']]"
   ]
  },
  {
   "cell_type": "markdown",
   "metadata": {},
   "source": [
    "**Observation** Research on _Staten Island Technical High School_ that has only 1.1% of black students reveals the following:\n",
    "- Less than half the students are economically disadvantaged.\n",
    "- The schools hosts a significantly large number of asian and white students\n",
    "- The school has representations from almost all communities albeit in significantly small measures"
   ]
  },
  {
   "cell_type": "markdown",
   "metadata": {},
   "source": [
    "**Question**: Does racial bias have a role in the outcome of SAT scores?"
   ]
  },
  {
   "cell_type": "markdown",
   "metadata": {},
   "source": [
    "**Insights**:\n",
    "- SAT scores clearly seem biased towards communities besides the asians and the whites. All communities do not seem to be equally resourced to make a fair assessment of average SAT scores.\n",
    "- The asian and white could have more resources that enable them to perform better.\n",
    "- Economic disadvantage seems to have some role to play in the bad average scores exhibited by the african-american and hispanic communities."
   ]
  },
  {
   "cell_type": "markdown",
   "metadata": {},
   "source": [
    "[Index](#Index)"
   ]
  },
  {
   "cell_type": "markdown",
   "metadata": {},
   "source": [
    "# 7"
   ]
  },
  {
   "cell_type": "markdown",
   "metadata": {},
   "source": [
    "## Men from Mars, Women from Venus"
   ]
  },
  {
   "cell_type": "markdown",
   "metadata": {},
   "source": [
    "**Effects of Gender on SAT score**"
   ]
  },
  {
   "cell_type": "markdown",
   "metadata": {},
   "source": [
    "Race bias does exist in SAT scores. It would be to interesting to see whether gender bias exists. First an analysis needs to be made on the correlation between gender and SAT scores."
   ]
  },
  {
   "cell_type": "code",
   "execution_count": 26,
   "metadata": {},
   "outputs": [
    {
     "data": {
      "image/png": "[encoded data removed]",
      "text/plain": [
       "<Figure size 576x432 with 1 Axes>"
      ]
     },
     "metadata": {
      "needs_background": "light"
     },
     "output_type": "display_data"
    }
   ],
   "source": [
    "plt.figure(figsize=(8,6))\n",
    "gender = ['male_per', 'female_per']\n",
    "# Highlights survey_fields that have a correlation above 0.2\n",
    "bar_color = ['grey' if (abs(x) < 0.2) else 'red' for x in correlations[gender].values ]\n",
    "ax = sns.barplot(x = correlations[gender].index, \n",
    "                 y = correlations[gender].values, \n",
    "                 palette = bar_color)\n",
    "\n",
    "ax.spines[\"top\"].set_visible(False)\n",
    "ax.spines[\"bottom\"].set_visible(False)\n",
    "ax.spines[\"right\"].set_visible(False)\n",
    "ax.spines[\"left\"].set_visible(False)\n",
    "ax.tick_params(left = False, bottom = False)\n",
    "plt.xticks(rotation=60)\n",
    "ax.set_yticks([])\n",
    "\n",
    "#Annotating the bargraph\n",
    "for p in ax.patches:\n",
    "    corr_val = '{:.2f}'.format(p.get_height())\n",
    "    x = p.get_x()+p.get_width()/2.\n",
    "    y = p.get_height()\n",
    "    ax.annotate(corr_val,(x,y),ha='center',va='center', xytext = (0, 9), \n",
    "                   textcoords = 'offset points')\n",
    "    \n",
    "ax.set_title(\"Correlation of SAT scores to different genders\")\n",
    "plt.show()"
   ]
  },
  {
   "cell_type": "markdown",
   "metadata": {},
   "source": [
    "**Observance**\n",
    "- Neither gender seems to have tipped the SAT scores significantly."
   ]
  },
  {
   "cell_type": "markdown",
   "metadata": {},
   "source": [
    "Based on the observation it would help to understand how SAT scores are distributed among a specific gender."
   ]
  },
  {
   "cell_type": "code",
   "execution_count": 27,
   "metadata": {},
   "outputs": [
    {
     "data": {
      "text/plain": [
       "<matplotlib.axes._subplots.AxesSubplot at 0x20cb1e0ee48>"
      ]
     },
     "execution_count": 27,
     "metadata": {},
     "output_type": "execute_result"
    },
    {
     "data": {
      "image/png": "[encoded data removed]",
      "text/plain": [
       "<Figure size 432x288 with 1 Axes>"
      ]
     },
     "metadata": {
      "needs_background": "light"
     },
     "output_type": "display_data"
    }
   ],
   "source": [
    "sns.scatterplot(x = combined['female_per'], \n",
    "                y= combined['sat_score'], \n",
    "                hue=combined['female_per'], \n",
    "                palette = 'rocket')"
   ]
  },
  {
   "cell_type": "markdown",
   "metadata": {},
   "source": [
    "**Observation**\n",
    "- The lack of a positive or negative correlation is evident in the above plot.\n",
    "- 40-60% of the female population seems to be attending schools with an average SAT score less than 1400"
   ]
  },
  {
   "cell_type": "code",
   "execution_count": 47,
   "metadata": {},
   "outputs": [
    {
     "name": "stdout",
     "output_type": "stream",
     "text": [
      "\u001b[1mSchools with female participation greater than 60% and average SAT scores greater than 1700\u001b[0m\n"
     ]
    },
    {
     "data": {
      "text/html": [
       "<div>\n",
       "<style scoped>\n",
       "    .dataframe tbody tr th:only-of-type {\n",
       "        vertical-align: middle;\n",
       "    }\n",
       "\n",
       "    .dataframe tbody tr th {\n",
       "        vertical-align: top;\n",
       "    }\n",
       "\n",
       "    .dataframe thead th {\n",
       "        text-align: right;\n",
       "    }\n",
       "</style>\n",
       "<table border=\"1\" class=\"dataframe\">\n",
       "  <thead>\n",
       "    <tr style=\"text-align: right;\">\n",
       "      <th></th>\n",
       "      <th>SCHOOL NAME</th>\n",
       "      <th>sat_score</th>\n",
       "      <th>female_per</th>\n",
       "    </tr>\n",
       "  </thead>\n",
       "  <tbody>\n",
       "    <tr>\n",
       "      <th>5</th>\n",
       "      <td>BARD HIGH SCHOOL EARLY COLLEGE</td>\n",
       "      <td>1856.0</td>\n",
       "      <td>68.7</td>\n",
       "    </tr>\n",
       "    <tr>\n",
       "      <th>26</th>\n",
       "      <td>ELEANOR ROOSEVELT HIGH SCHOOL</td>\n",
       "      <td>1758.0</td>\n",
       "      <td>67.5</td>\n",
       "    </tr>\n",
       "    <tr>\n",
       "      <th>60</th>\n",
       "      <td>BEACON HIGH SCHOOL</td>\n",
       "      <td>1744.0</td>\n",
       "      <td>61.0</td>\n",
       "    </tr>\n",
       "    <tr>\n",
       "      <th>61</th>\n",
       "      <td>FIORELLO H. LAGUARDIA HIGH SCHOOL OF MUSIC &amp; A...</td>\n",
       "      <td>1707.0</td>\n",
       "      <td>73.6</td>\n",
       "    </tr>\n",
       "    <tr>\n",
       "      <th>302</th>\n",
       "      <td>TOWNSEND HARRIS HIGH SCHOOL</td>\n",
       "      <td>1910.0</td>\n",
       "      <td>71.1</td>\n",
       "    </tr>\n",
       "  </tbody>\n",
       "</table>\n",
       "</div>"
      ],
      "text/plain": [
       "                                           SCHOOL NAME  sat_score  female_per\n",
       "5                       BARD HIGH SCHOOL EARLY COLLEGE     1856.0        68.7\n",
       "26                       ELEANOR ROOSEVELT HIGH SCHOOL     1758.0        67.5\n",
       "60                                  BEACON HIGH SCHOOL     1744.0        61.0\n",
       "61   FIORELLO H. LAGUARDIA HIGH SCHOOL OF MUSIC & A...     1707.0        73.6\n",
       "302                        TOWNSEND HARRIS HIGH SCHOOL     1910.0        71.1"
      ]
     },
     "execution_count": 47,
     "metadata": {},
     "output_type": "execute_result"
    }
   ],
   "source": [
    "#Schools with a SAT score greater than 1700 and female participation greater than 60\n",
    "print('\\033[1m' + \"Schools with female participation greater than 60% and average SAT scores greater than 1700\" + '\\033[0m')\n",
    "combined[(combined['female_per'] > 60) & (combined['sat_score'] >1700)][['SCHOOL NAME', 'sat_score', 'female_per']]"
   ]
  },
  {
   "cell_type": "markdown",
   "metadata": {},
   "source": [
    "**Question**: Does gender have a role to play in the outcome of SAT scores?"
   ]
  },
  {
   "cell_type": "markdown",
   "metadata": {},
   "source": [
    "**Insights**\n",
    "- Gender does not seem to be a factor in weighing down SAT scores. While gender bias is quite common in the workplace education does not seem to have suffered the same fate. This could be because of the active role both men and women have taken with regards to education."
   ]
  },
  {
   "cell_type": "markdown",
   "metadata": {},
   "source": [
    "[Index](#Index)"
   ]
  },
  {
   "cell_type": "markdown",
   "metadata": {},
   "source": [
    "# 8"
   ]
  },
  {
   "cell_type": "markdown",
   "metadata": {},
   "source": [
    "## Couple of Steps ahead.."
   ]
  },
  {
   "cell_type": "markdown",
   "metadata": {},
   "source": [
    "**Effect of AP scores on SAT Scores**"
   ]
  },
  {
   "cell_type": "markdown",
   "metadata": {},
   "source": [
    "[Advanced Placement](https://en.wikipedia.org/wiki/Advanced_Placement_exams) exams allow students to get college credits which allow them to skip taking a couple of subjects in college which in turn helps to reduce tuition fees. So it goes without saying that AP exams are highly correlated to SAT scores.\n",
    "\n",
    "AP scores for each school cannot, however, be considered directly as enrollments are also highly correlated to SAT scores. To get more accurate results AP scores must be taken based on the total enrollments in each school."
   ]
  },
  {
   "cell_type": "code",
   "execution_count": 29,
   "metadata": {},
   "outputs": [],
   "source": [
    "combined['ap_per'] = (combined['AP Test Takers '] / combined['total_enrollment']) * 100"
   ]
  },
  {
   "cell_type": "code",
   "execution_count": 30,
   "metadata": {},
   "outputs": [
    {
     "data": {
      "text/plain": [
       "<matplotlib.axes._subplots.AxesSubplot at 0x20cb1b73f48>"
      ]
     },
     "execution_count": 30,
     "metadata": {},
     "output_type": "execute_result"
    },
    {
     "data": {
      "image/png": "[encoded data removed]",
      "text/plain": [
       "<Figure size 432x288 with 1 Axes>"
      ]
     },
     "metadata": {
      "needs_background": "light"
     },
     "output_type": "display_data"
    }
   ],
   "source": [
    "sns.scatterplot(x = combined['ap_per'], y= combined['sat_score'], hue = combined['ap_per'], palette = 'magma')"
   ]
  },
  {
   "cell_type": "code",
   "execution_count": 31,
   "metadata": {},
   "outputs": [
    {
     "data": {
      "text/html": [
       "<div>\n",
       "<style scoped>\n",
       "    .dataframe tbody tr th:only-of-type {\n",
       "        vertical-align: middle;\n",
       "    }\n",
       "\n",
       "    .dataframe tbody tr th {\n",
       "        vertical-align: top;\n",
       "    }\n",
       "\n",
       "    .dataframe thead th {\n",
       "        text-align: right;\n",
       "    }\n",
       "</style>\n",
       "<table border=\"1\" class=\"dataframe\">\n",
       "  <thead>\n",
       "    <tr style=\"text-align: right;\">\n",
       "      <th></th>\n",
       "      <th>SCHOOL NAME</th>\n",
       "      <th>sat_score</th>\n",
       "    </tr>\n",
       "  </thead>\n",
       "  <tbody>\n",
       "    <tr>\n",
       "      <th>111</th>\n",
       "      <td>BRONX BRIDGES HIGH SCHOOL</td>\n",
       "      <td>1223.438806</td>\n",
       "    </tr>\n",
       "    <tr>\n",
       "      <th>222</th>\n",
       "      <td>THE BROOKLYN ACADEMY OF GLOBAL FINANCE</td>\n",
       "      <td>1223.438806</td>\n",
       "    </tr>\n",
       "    <tr>\n",
       "      <th>335</th>\n",
       "      <td>CAMBRIA HEIGHTS ACADEMY</td>\n",
       "      <td>1223.438806</td>\n",
       "    </tr>\n",
       "  </tbody>\n",
       "</table>\n",
       "</div>"
      ],
      "text/plain": [
       "                                SCHOOL NAME    sat_score\n",
       "111               BRONX BRIDGES HIGH SCHOOL  1223.438806\n",
       "222  THE BROOKLYN ACADEMY OF GLOBAL FINANCE  1223.438806\n",
       "335                 CAMBRIA HEIGHTS ACADEMY  1223.438806"
      ]
     },
     "execution_count": 31,
     "metadata": {},
     "output_type": "execute_result"
    }
   ],
   "source": [
    "combined[(combined['ap_per'] > 80) & (combined['sat_score']<1300)][['SCHOOL NAME', 'sat_score']]"
   ]
  },
  {
   "cell_type": "markdown",
   "metadata": {},
   "source": [
    "**Observation**:\n",
    "- A significant number of the insitutions that have an average SAT score that is less than 1400 have between 20-40% AP test takers.\n",
    "- Schools with 80% AP test takers have SAT scores less than 1300"
   ]
  },
  {
   "cell_type": "markdown",
   "metadata": {},
   "source": [
    "**Question**: Are AP Test a clear parameter to determine SAT scores?"
   ]
  },
  {
   "cell_type": "markdown",
   "metadata": {},
   "source": [
    "**Insights**:\n",
    "- The results prove the percentage of AP test takers is not a good parameter to indicate SAT scores.\n",
    "- Bright students in underperforming schools may be more motivated to take up AP exams due to economic disadvantages. The AP exams could prove to be their ticket to good institutions and lower fees.\n",
    "- Students in schools that perform really well, already have the the insitutions they come from to back their educational quality. Moreover, they could be from economically stable backgrounds that allow them to undertake full classes in university without putting too much thought to tuition. Thus AP exams may not be a great motivator for these students."
   ]
  },
  {
   "cell_type": "markdown",
   "metadata": {},
   "source": [
    "[Index](#Index)"
   ]
  },
  {
   "cell_type": "markdown",
   "metadata": {},
   "source": [
    "# 9"
   ]
  },
  {
   "cell_type": "markdown",
   "metadata": {},
   "source": [
    "## Conclusion"
   ]
  },
  {
   "cell_type": "markdown",
   "metadata": {},
   "source": [
    "This goal of this project was to gain insights on how SAT scores may be impacted by race, demographics and gender. In order to attain this goal data provided by the New York Deparment of Education was read and analysed. The data was taken from surverys and individual school records.\n",
    "\n",
    "The data, on processing, provided a number of insights. From the survey data it was found that safety, while a priority, does not have a high impact on SAT scores. Race, on the other had a crucial impact on SAT scores. A white or asian student seems to have a better chance and making out with better SAT scores than black or latino students. \n",
    "Gender does not seem to have tipped the balance too much. Gender seems to have a neutral impact on SAT scores.\n",
    "\n",
    "SAT is unfair towards certain racial groups. However, it must be noted that its existence propels students to study hard. Its focus on percentiles as opposed to percentage of marks is a great motivator\n",
    "\n",
    "There is a lot more information that can be gleaned. The same is planned for a later stage"
   ]
  },
  {
   "cell_type": "markdown",
   "metadata": {},
   "source": [
    "# 10"
   ]
  },
  {
   "cell_type": "markdown",
   "metadata": {},
   "source": [
    "## Acknowledgement"
   ]
  },
  {
   "cell_type": "markdown",
   "metadata": {},
   "source": [
    "This project is a guided project done with the guidance from Dataquest. The project was done to allow students get a better understanding of concepts of Data Cleaning.\n",
    "\n",
    "I was very keen while doing this project to ensure that it looked like an actual report. I got my answer for the same from [here](https://chris-said.io/2016/02/13/how-to-make-polished-jupyter-presentations-with-optional-code-visibility/)"
   ]
  },
  {
   "cell_type": "markdown",
   "metadata": {},
   "source": [
    "[Index](#Index)"
   ]
  }
 ],
 "metadata": {
  "kernelspec": {
   "display_name": "Python 3",
   "language": "python",
   "name": "python3"
  },
  "language_info": {
   "codemirror_mode": {
    "name": "ipython",
    "version": 3
   },
   "file_extension": ".py",
   "mimetype": "text/x-python",
   "name": "python",
   "nbconvert_exporter": "python",
   "pygments_lexer": "ipython3",
   "version": "3.7.4"
  }
 },
 "nbformat": 4,
 "nbformat_minor": 2
}
